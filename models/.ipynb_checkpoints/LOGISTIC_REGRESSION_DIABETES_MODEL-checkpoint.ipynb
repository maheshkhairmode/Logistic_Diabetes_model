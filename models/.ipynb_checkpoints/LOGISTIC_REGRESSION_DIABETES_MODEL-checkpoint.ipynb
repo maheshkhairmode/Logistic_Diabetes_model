{
 "cells": [
  {
   "cell_type": "markdown",
   "id": "826ecb0e",
   "metadata": {},
   "source": [
    "### Import liabraries"
   ]
  },
  {
   "cell_type": "code",
   "execution_count": 1,
   "id": "075980ab",
   "metadata": {},
   "outputs": [],
   "source": [
    "import numpy as np\n",
    "import pandas as pd \n",
    "import seaborn as sns\n",
    "import matplotlib.pyplot as plt\n",
    "from sklearn.linear_model import LogisticRegression\n",
    "from sklearn.metrics import confusion_matrix,roc_auc_score,recall_score,precision_score,f1_score,plot_confusion_matrix,classification_report\n",
    "from sklearn.model_selection import train_test_split\n",
    "from sklearn.metrics import accuracy_score,roc_curve,auc\n",
    "import warnings\n",
    "warnings.filterwarnings(\"ignore\")"
   ]
  },
  {
   "cell_type": "code",
   "execution_count": 2,
   "id": "23bdb83e",
   "metadata": {},
   "outputs": [
    {
     "ename": "FileNotFoundError",
     "evalue": "[Errno 2] No such file or directory: 'diabetes.csv'",
     "output_type": "error",
     "traceback": [
      "\u001b[1;31m---------------------------------------------------------------------------\u001b[0m",
      "\u001b[1;31mFileNotFoundError\u001b[0m                         Traceback (most recent call last)",
      "Input \u001b[1;32mIn [2]\u001b[0m, in \u001b[0;36m<cell line: 1>\u001b[1;34m()\u001b[0m\n\u001b[1;32m----> 1\u001b[0m df\u001b[38;5;241m=\u001b[39m\u001b[43mpd\u001b[49m\u001b[38;5;241;43m.\u001b[39;49m\u001b[43mread_csv\u001b[49m\u001b[43m(\u001b[49m\u001b[38;5;124;43m\"\u001b[39;49m\u001b[38;5;124;43mdiabetes.csv\u001b[39;49m\u001b[38;5;124;43m\"\u001b[39;49m\u001b[43m)\u001b[49m\n\u001b[0;32m      2\u001b[0m df\u001b[38;5;241m.\u001b[39mhead()\n",
      "File \u001b[1;32mC:\\Program Files\\Python310\\lib\\site-packages\\pandas\\util\\_decorators.py:311\u001b[0m, in \u001b[0;36mdeprecate_nonkeyword_arguments.<locals>.decorate.<locals>.wrapper\u001b[1;34m(*args, **kwargs)\u001b[0m\n\u001b[0;32m    305\u001b[0m \u001b[38;5;28;01mif\u001b[39;00m \u001b[38;5;28mlen\u001b[39m(args) \u001b[38;5;241m>\u001b[39m num_allow_args:\n\u001b[0;32m    306\u001b[0m     warnings\u001b[38;5;241m.\u001b[39mwarn(\n\u001b[0;32m    307\u001b[0m         msg\u001b[38;5;241m.\u001b[39mformat(arguments\u001b[38;5;241m=\u001b[39marguments),\n\u001b[0;32m    308\u001b[0m         \u001b[38;5;167;01mFutureWarning\u001b[39;00m,\n\u001b[0;32m    309\u001b[0m         stacklevel\u001b[38;5;241m=\u001b[39mstacklevel,\n\u001b[0;32m    310\u001b[0m     )\n\u001b[1;32m--> 311\u001b[0m \u001b[38;5;28;01mreturn\u001b[39;00m func(\u001b[38;5;241m*\u001b[39margs, \u001b[38;5;241m*\u001b[39m\u001b[38;5;241m*\u001b[39mkwargs)\n",
      "File \u001b[1;32mC:\\Program Files\\Python310\\lib\\site-packages\\pandas\\io\\parsers\\readers.py:678\u001b[0m, in \u001b[0;36mread_csv\u001b[1;34m(filepath_or_buffer, sep, delimiter, header, names, index_col, usecols, squeeze, prefix, mangle_dupe_cols, dtype, engine, converters, true_values, false_values, skipinitialspace, skiprows, skipfooter, nrows, na_values, keep_default_na, na_filter, verbose, skip_blank_lines, parse_dates, infer_datetime_format, keep_date_col, date_parser, dayfirst, cache_dates, iterator, chunksize, compression, thousands, decimal, lineterminator, quotechar, quoting, doublequote, escapechar, comment, encoding, encoding_errors, dialect, error_bad_lines, warn_bad_lines, on_bad_lines, delim_whitespace, low_memory, memory_map, float_precision, storage_options)\u001b[0m\n\u001b[0;32m    663\u001b[0m kwds_defaults \u001b[38;5;241m=\u001b[39m _refine_defaults_read(\n\u001b[0;32m    664\u001b[0m     dialect,\n\u001b[0;32m    665\u001b[0m     delimiter,\n\u001b[1;32m   (...)\u001b[0m\n\u001b[0;32m    674\u001b[0m     defaults\u001b[38;5;241m=\u001b[39m{\u001b[38;5;124m\"\u001b[39m\u001b[38;5;124mdelimiter\u001b[39m\u001b[38;5;124m\"\u001b[39m: \u001b[38;5;124m\"\u001b[39m\u001b[38;5;124m,\u001b[39m\u001b[38;5;124m\"\u001b[39m},\n\u001b[0;32m    675\u001b[0m )\n\u001b[0;32m    676\u001b[0m kwds\u001b[38;5;241m.\u001b[39mupdate(kwds_defaults)\n\u001b[1;32m--> 678\u001b[0m \u001b[38;5;28;01mreturn\u001b[39;00m \u001b[43m_read\u001b[49m\u001b[43m(\u001b[49m\u001b[43mfilepath_or_buffer\u001b[49m\u001b[43m,\u001b[49m\u001b[43m \u001b[49m\u001b[43mkwds\u001b[49m\u001b[43m)\u001b[49m\n",
      "File \u001b[1;32mC:\\Program Files\\Python310\\lib\\site-packages\\pandas\\io\\parsers\\readers.py:575\u001b[0m, in \u001b[0;36m_read\u001b[1;34m(filepath_or_buffer, kwds)\u001b[0m\n\u001b[0;32m    572\u001b[0m _validate_names(kwds\u001b[38;5;241m.\u001b[39mget(\u001b[38;5;124m\"\u001b[39m\u001b[38;5;124mnames\u001b[39m\u001b[38;5;124m\"\u001b[39m, \u001b[38;5;28;01mNone\u001b[39;00m))\n\u001b[0;32m    574\u001b[0m \u001b[38;5;66;03m# Create the parser.\u001b[39;00m\n\u001b[1;32m--> 575\u001b[0m parser \u001b[38;5;241m=\u001b[39m TextFileReader(filepath_or_buffer, \u001b[38;5;241m*\u001b[39m\u001b[38;5;241m*\u001b[39mkwds)\n\u001b[0;32m    577\u001b[0m \u001b[38;5;28;01mif\u001b[39;00m chunksize \u001b[38;5;129;01mor\u001b[39;00m iterator:\n\u001b[0;32m    578\u001b[0m     \u001b[38;5;28;01mreturn\u001b[39;00m parser\n",
      "File \u001b[1;32mC:\\Program Files\\Python310\\lib\\site-packages\\pandas\\io\\parsers\\readers.py:932\u001b[0m, in \u001b[0;36mTextFileReader.__init__\u001b[1;34m(self, f, engine, **kwds)\u001b[0m\n\u001b[0;32m    929\u001b[0m     \u001b[38;5;28mself\u001b[39m\u001b[38;5;241m.\u001b[39moptions[\u001b[38;5;124m\"\u001b[39m\u001b[38;5;124mhas_index_names\u001b[39m\u001b[38;5;124m\"\u001b[39m] \u001b[38;5;241m=\u001b[39m kwds[\u001b[38;5;124m\"\u001b[39m\u001b[38;5;124mhas_index_names\u001b[39m\u001b[38;5;124m\"\u001b[39m]\n\u001b[0;32m    931\u001b[0m \u001b[38;5;28mself\u001b[39m\u001b[38;5;241m.\u001b[39mhandles: IOHandles \u001b[38;5;241m|\u001b[39m \u001b[38;5;28;01mNone\u001b[39;00m \u001b[38;5;241m=\u001b[39m \u001b[38;5;28;01mNone\u001b[39;00m\n\u001b[1;32m--> 932\u001b[0m \u001b[38;5;28mself\u001b[39m\u001b[38;5;241m.\u001b[39m_engine \u001b[38;5;241m=\u001b[39m \u001b[38;5;28;43mself\u001b[39;49m\u001b[38;5;241;43m.\u001b[39;49m\u001b[43m_make_engine\u001b[49m\u001b[43m(\u001b[49m\u001b[43mf\u001b[49m\u001b[43m,\u001b[49m\u001b[43m \u001b[49m\u001b[38;5;28;43mself\u001b[39;49m\u001b[38;5;241;43m.\u001b[39;49m\u001b[43mengine\u001b[49m\u001b[43m)\u001b[49m\n",
      "File \u001b[1;32mC:\\Program Files\\Python310\\lib\\site-packages\\pandas\\io\\parsers\\readers.py:1216\u001b[0m, in \u001b[0;36mTextFileReader._make_engine\u001b[1;34m(self, f, engine)\u001b[0m\n\u001b[0;32m   1212\u001b[0m     mode \u001b[38;5;241m=\u001b[39m \u001b[38;5;124m\"\u001b[39m\u001b[38;5;124mrb\u001b[39m\u001b[38;5;124m\"\u001b[39m\n\u001b[0;32m   1213\u001b[0m \u001b[38;5;66;03m# error: No overload variant of \"get_handle\" matches argument types\u001b[39;00m\n\u001b[0;32m   1214\u001b[0m \u001b[38;5;66;03m# \"Union[str, PathLike[str], ReadCsvBuffer[bytes], ReadCsvBuffer[str]]\"\u001b[39;00m\n\u001b[0;32m   1215\u001b[0m \u001b[38;5;66;03m# , \"str\", \"bool\", \"Any\", \"Any\", \"Any\", \"Any\", \"Any\"\u001b[39;00m\n\u001b[1;32m-> 1216\u001b[0m \u001b[38;5;28mself\u001b[39m\u001b[38;5;241m.\u001b[39mhandles \u001b[38;5;241m=\u001b[39m \u001b[43mget_handle\u001b[49m\u001b[43m(\u001b[49m\u001b[43m  \u001b[49m\u001b[38;5;66;43;03m# type: ignore[call-overload]\u001b[39;49;00m\n\u001b[0;32m   1217\u001b[0m \u001b[43m    \u001b[49m\u001b[43mf\u001b[49m\u001b[43m,\u001b[49m\n\u001b[0;32m   1218\u001b[0m \u001b[43m    \u001b[49m\u001b[43mmode\u001b[49m\u001b[43m,\u001b[49m\n\u001b[0;32m   1219\u001b[0m \u001b[43m    \u001b[49m\u001b[43mencoding\u001b[49m\u001b[38;5;241;43m=\u001b[39;49m\u001b[38;5;28;43mself\u001b[39;49m\u001b[38;5;241;43m.\u001b[39;49m\u001b[43moptions\u001b[49m\u001b[38;5;241;43m.\u001b[39;49m\u001b[43mget\u001b[49m\u001b[43m(\u001b[49m\u001b[38;5;124;43m\"\u001b[39;49m\u001b[38;5;124;43mencoding\u001b[39;49m\u001b[38;5;124;43m\"\u001b[39;49m\u001b[43m,\u001b[49m\u001b[43m \u001b[49m\u001b[38;5;28;43;01mNone\u001b[39;49;00m\u001b[43m)\u001b[49m\u001b[43m,\u001b[49m\n\u001b[0;32m   1220\u001b[0m \u001b[43m    \u001b[49m\u001b[43mcompression\u001b[49m\u001b[38;5;241;43m=\u001b[39;49m\u001b[38;5;28;43mself\u001b[39;49m\u001b[38;5;241;43m.\u001b[39;49m\u001b[43moptions\u001b[49m\u001b[38;5;241;43m.\u001b[39;49m\u001b[43mget\u001b[49m\u001b[43m(\u001b[49m\u001b[38;5;124;43m\"\u001b[39;49m\u001b[38;5;124;43mcompression\u001b[39;49m\u001b[38;5;124;43m\"\u001b[39;49m\u001b[43m,\u001b[49m\u001b[43m \u001b[49m\u001b[38;5;28;43;01mNone\u001b[39;49;00m\u001b[43m)\u001b[49m\u001b[43m,\u001b[49m\n\u001b[0;32m   1221\u001b[0m \u001b[43m    \u001b[49m\u001b[43mmemory_map\u001b[49m\u001b[38;5;241;43m=\u001b[39;49m\u001b[38;5;28;43mself\u001b[39;49m\u001b[38;5;241;43m.\u001b[39;49m\u001b[43moptions\u001b[49m\u001b[38;5;241;43m.\u001b[39;49m\u001b[43mget\u001b[49m\u001b[43m(\u001b[49m\u001b[38;5;124;43m\"\u001b[39;49m\u001b[38;5;124;43mmemory_map\u001b[39;49m\u001b[38;5;124;43m\"\u001b[39;49m\u001b[43m,\u001b[49m\u001b[43m \u001b[49m\u001b[38;5;28;43;01mFalse\u001b[39;49;00m\u001b[43m)\u001b[49m\u001b[43m,\u001b[49m\n\u001b[0;32m   1222\u001b[0m \u001b[43m    \u001b[49m\u001b[43mis_text\u001b[49m\u001b[38;5;241;43m=\u001b[39;49m\u001b[43mis_text\u001b[49m\u001b[43m,\u001b[49m\n\u001b[0;32m   1223\u001b[0m \u001b[43m    \u001b[49m\u001b[43merrors\u001b[49m\u001b[38;5;241;43m=\u001b[39;49m\u001b[38;5;28;43mself\u001b[39;49m\u001b[38;5;241;43m.\u001b[39;49m\u001b[43moptions\u001b[49m\u001b[38;5;241;43m.\u001b[39;49m\u001b[43mget\u001b[49m\u001b[43m(\u001b[49m\u001b[38;5;124;43m\"\u001b[39;49m\u001b[38;5;124;43mencoding_errors\u001b[39;49m\u001b[38;5;124;43m\"\u001b[39;49m\u001b[43m,\u001b[49m\u001b[43m \u001b[49m\u001b[38;5;124;43m\"\u001b[39;49m\u001b[38;5;124;43mstrict\u001b[39;49m\u001b[38;5;124;43m\"\u001b[39;49m\u001b[43m)\u001b[49m\u001b[43m,\u001b[49m\n\u001b[0;32m   1224\u001b[0m \u001b[43m    \u001b[49m\u001b[43mstorage_options\u001b[49m\u001b[38;5;241;43m=\u001b[39;49m\u001b[38;5;28;43mself\u001b[39;49m\u001b[38;5;241;43m.\u001b[39;49m\u001b[43moptions\u001b[49m\u001b[38;5;241;43m.\u001b[39;49m\u001b[43mget\u001b[49m\u001b[43m(\u001b[49m\u001b[38;5;124;43m\"\u001b[39;49m\u001b[38;5;124;43mstorage_options\u001b[39;49m\u001b[38;5;124;43m\"\u001b[39;49m\u001b[43m,\u001b[49m\u001b[43m \u001b[49m\u001b[38;5;28;43;01mNone\u001b[39;49;00m\u001b[43m)\u001b[49m\u001b[43m,\u001b[49m\n\u001b[0;32m   1225\u001b[0m \u001b[43m\u001b[49m\u001b[43m)\u001b[49m\n\u001b[0;32m   1226\u001b[0m \u001b[38;5;28;01massert\u001b[39;00m \u001b[38;5;28mself\u001b[39m\u001b[38;5;241m.\u001b[39mhandles \u001b[38;5;129;01mis\u001b[39;00m \u001b[38;5;129;01mnot\u001b[39;00m \u001b[38;5;28;01mNone\u001b[39;00m\n\u001b[0;32m   1227\u001b[0m f \u001b[38;5;241m=\u001b[39m \u001b[38;5;28mself\u001b[39m\u001b[38;5;241m.\u001b[39mhandles\u001b[38;5;241m.\u001b[39mhandle\n",
      "File \u001b[1;32mC:\\Program Files\\Python310\\lib\\site-packages\\pandas\\io\\common.py:786\u001b[0m, in \u001b[0;36mget_handle\u001b[1;34m(path_or_buf, mode, encoding, compression, memory_map, is_text, errors, storage_options)\u001b[0m\n\u001b[0;32m    781\u001b[0m \u001b[38;5;28;01melif\u001b[39;00m \u001b[38;5;28misinstance\u001b[39m(handle, \u001b[38;5;28mstr\u001b[39m):\n\u001b[0;32m    782\u001b[0m     \u001b[38;5;66;03m# Check whether the filename is to be opened in binary mode.\u001b[39;00m\n\u001b[0;32m    783\u001b[0m     \u001b[38;5;66;03m# Binary mode does not support 'encoding' and 'newline'.\u001b[39;00m\n\u001b[0;32m    784\u001b[0m     \u001b[38;5;28;01mif\u001b[39;00m ioargs\u001b[38;5;241m.\u001b[39mencoding \u001b[38;5;129;01mand\u001b[39;00m \u001b[38;5;124m\"\u001b[39m\u001b[38;5;124mb\u001b[39m\u001b[38;5;124m\"\u001b[39m \u001b[38;5;129;01mnot\u001b[39;00m \u001b[38;5;129;01min\u001b[39;00m ioargs\u001b[38;5;241m.\u001b[39mmode:\n\u001b[0;32m    785\u001b[0m         \u001b[38;5;66;03m# Encoding\u001b[39;00m\n\u001b[1;32m--> 786\u001b[0m         handle \u001b[38;5;241m=\u001b[39m \u001b[38;5;28;43mopen\u001b[39;49m\u001b[43m(\u001b[49m\n\u001b[0;32m    787\u001b[0m \u001b[43m            \u001b[49m\u001b[43mhandle\u001b[49m\u001b[43m,\u001b[49m\n\u001b[0;32m    788\u001b[0m \u001b[43m            \u001b[49m\u001b[43mioargs\u001b[49m\u001b[38;5;241;43m.\u001b[39;49m\u001b[43mmode\u001b[49m\u001b[43m,\u001b[49m\n\u001b[0;32m    789\u001b[0m \u001b[43m            \u001b[49m\u001b[43mencoding\u001b[49m\u001b[38;5;241;43m=\u001b[39;49m\u001b[43mioargs\u001b[49m\u001b[38;5;241;43m.\u001b[39;49m\u001b[43mencoding\u001b[49m\u001b[43m,\u001b[49m\n\u001b[0;32m    790\u001b[0m \u001b[43m            \u001b[49m\u001b[43merrors\u001b[49m\u001b[38;5;241;43m=\u001b[39;49m\u001b[43merrors\u001b[49m\u001b[43m,\u001b[49m\n\u001b[0;32m    791\u001b[0m \u001b[43m            \u001b[49m\u001b[43mnewline\u001b[49m\u001b[38;5;241;43m=\u001b[39;49m\u001b[38;5;124;43m\"\u001b[39;49m\u001b[38;5;124;43m\"\u001b[39;49m\u001b[43m,\u001b[49m\n\u001b[0;32m    792\u001b[0m \u001b[43m        \u001b[49m\u001b[43m)\u001b[49m\n\u001b[0;32m    793\u001b[0m     \u001b[38;5;28;01melse\u001b[39;00m:\n\u001b[0;32m    794\u001b[0m         \u001b[38;5;66;03m# Binary mode\u001b[39;00m\n\u001b[0;32m    795\u001b[0m         handle \u001b[38;5;241m=\u001b[39m \u001b[38;5;28mopen\u001b[39m(handle, ioargs\u001b[38;5;241m.\u001b[39mmode)\n",
      "\u001b[1;31mFileNotFoundError\u001b[0m: [Errno 2] No such file or directory: 'diabetes.csv'"
     ]
    }
   ],
   "source": [
    "df=pd.read_csv(\"diabetes.csv\")\n",
    "df.head()"
   ]
  },
  {
   "cell_type": "markdown",
   "id": "84755cd1",
   "metadata": {},
   "source": [
    "#### Problem statement"
   ]
  },
  {
   "cell_type": "markdown",
   "id": "be965335",
   "metadata": {},
   "source": [
    "Find out the probabilities of Diabetese having or not based on the following parameter\n",
    "\n",
    "Glucose,\n",
    "SkinThickness,\n",
    "BloodPressure,\n",
    "Insulin,\n",
    "BMI,\n",
    "DiabetesPedigreeFunctionAge"
   ]
  },
  {
   "cell_type": "markdown",
   "id": "45a785d6",
   "metadata": {},
   "source": [
    "#### Exploratory Data Analysis"
   ]
  },
  {
   "cell_type": "code",
   "execution_count": null,
   "id": "aa33c739",
   "metadata": {},
   "outputs": [],
   "source": [
    "df.info()"
   ]
  },
  {
   "cell_type": "code",
   "execution_count": null,
   "id": "cc8e053d",
   "metadata": {},
   "outputs": [],
   "source": [
    "df.isna().sum()"
   ]
  },
  {
   "cell_type": "code",
   "execution_count": null,
   "id": "d207fad2",
   "metadata": {},
   "outputs": [],
   "source": [
    "# Inabove dataset there are no nan value present and there is no any miscellaneous data present "
   ]
  },
  {
   "cell_type": "markdown",
   "id": "c92ba590",
   "metadata": {},
   "source": [
    "### Outlier Handling"
   ]
  },
  {
   "cell_type": "code",
   "execution_count": null,
   "id": "82ee50d5",
   "metadata": {},
   "outputs": [],
   "source": [
    "df.boxplot(figsize=(12,6))"
   ]
  },
  {
   "cell_type": "code",
   "execution_count": null,
   "id": "c76cb2d9",
   "metadata": {},
   "outputs": [],
   "source": [
    "df[[\"Glucose\"]].boxplot()"
   ]
  },
  {
   "cell_type": "code",
   "execution_count": null,
   "id": "7f5b15b5",
   "metadata": {},
   "outputs": [],
   "source": [
    "# use Iqr method to remove outlier"
   ]
  },
  {
   "cell_type": "code",
   "execution_count": null,
   "id": "da8b8814",
   "metadata": {},
   "outputs": [],
   "source": [
    "q3=df[\"Glucose\"].quantile(0.75)\n",
    "q1=df[\"Glucose\"].quantile(0.25)\n",
    "iqr=q3-q1\n",
    "lower_limit=q1-1.5*iqr\n",
    "lower_limit"
   ]
  },
  {
   "cell_type": "code",
   "execution_count": null,
   "id": "5bb93853",
   "metadata": {},
   "outputs": [],
   "source": [
    "df[[\"Glucose\"]].loc[df[\"Glucose\"]<lower_limit]"
   ]
  },
  {
   "cell_type": "code",
   "execution_count": null,
   "id": "6841bf4a",
   "metadata": {},
   "outputs": [],
   "source": [
    "df.describe()"
   ]
  },
  {
   "cell_type": "code",
   "execution_count": null,
   "id": "d6d1df81",
   "metadata": {},
   "outputs": [],
   "source": [
    "df.loc[df[\"Glucose\"]<lower_limit,\"Glucose\"]=df[\"Glucose\"].median()"
   ]
  },
  {
   "cell_type": "code",
   "execution_count": null,
   "id": "49eafb6b",
   "metadata": {},
   "outputs": [],
   "source": [
    "df[[\"Glucose\"]].loc[df[\"Glucose\"]<lower_limit]"
   ]
  },
  {
   "cell_type": "code",
   "execution_count": null,
   "id": "09c585a7",
   "metadata": {},
   "outputs": [],
   "source": [
    "df[[\"Glucose\"]].boxplot()"
   ]
  },
  {
   "cell_type": "code",
   "execution_count": null,
   "id": "0f80e3bc",
   "metadata": {},
   "outputs": [],
   "source": [
    "df[[\"BloodPressure\"]].boxplot()"
   ]
  },
  {
   "cell_type": "code",
   "execution_count": null,
   "id": "bb48da78",
   "metadata": {},
   "outputs": [],
   "source": [
    "q3=df[\"BloodPressure\"].quantile(0.75)\n",
    "q1=df[\"BloodPressure\"].quantile(0.25)\n",
    "iqr=q3-q1\n",
    "lower_limit=q1-1.5*iqr\n",
    "lower_limit\n",
    "upper_limit=q3+1.5*iqr"
   ]
  },
  {
   "cell_type": "code",
   "execution_count": null,
   "id": "5ef0ac01",
   "metadata": {},
   "outputs": [],
   "source": [
    "df[[\"BloodPressure\"]].loc[df[\"BloodPressure\"]>upper_limit]"
   ]
  },
  {
   "cell_type": "code",
   "execution_count": null,
   "id": "d494625f",
   "metadata": {},
   "outputs": [],
   "source": [
    "df[[\"BloodPressure\"]].loc[df[\"BloodPressure\"]<lower_limit].head()"
   ]
  },
  {
   "cell_type": "code",
   "execution_count": null,
   "id": "1c7926fb",
   "metadata": {},
   "outputs": [],
   "source": [
    "df.loc[df[\"BloodPressure\"]<lower_limit,\"BloodPressure\"]=df[\"BloodPressure\"].median()\n",
    "df.loc[df[\"BloodPressure\"]>upper_limit,\"BloodPressure\"]=df[\"BloodPressure\"].median()"
   ]
  },
  {
   "cell_type": "code",
   "execution_count": null,
   "id": "efbc24b8",
   "metadata": {},
   "outputs": [],
   "source": [
    "df[[\"BloodPressure\"]].boxplot()"
   ]
  },
  {
   "cell_type": "code",
   "execution_count": null,
   "id": "7202a64a",
   "metadata": {},
   "outputs": [],
   "source": [
    "df[[\"BloodPressure\"]].loc[df[\"BloodPressure\"]<lower_limit]"
   ]
  },
  {
   "cell_type": "code",
   "execution_count": null,
   "id": "4b2f38cf",
   "metadata": {},
   "outputs": [],
   "source": [
    "df[[\"BloodPressure\"]].loc[df[\"BloodPressure\"]>upper_limit]"
   ]
  },
  {
   "cell_type": "raw",
   "id": "f82b5365",
   "metadata": {},
   "source": [
    "Here we can see all the outlier replaced with median value but boxplot showing some outlier \n",
    "which are  on the boundery of upper and lower \n"
   ]
  },
  {
   "cell_type": "code",
   "execution_count": null,
   "id": "4f8b98a1",
   "metadata": {},
   "outputs": [],
   "source": [
    "df[[\"SkinThickness\"]].boxplot()"
   ]
  },
  {
   "cell_type": "markdown",
   "id": "f257a7a4",
   "metadata": {},
   "source": [
    "#### Use zscore method"
   ]
  },
  {
   "cell_type": "code",
   "execution_count": null,
   "id": "c3a08ba1",
   "metadata": {},
   "outputs": [],
   "source": [
    "from scipy.stats import zscore\n",
    "z_score_value=np.abs(zscore(df[\"SkinThickness\"]))\n",
    "array=np.where(z_score_value>2.5)\n",
    "array\n",
    "array1=df[\"SkinThickness\"].to_numpy()\n",
    "array1[array]"
   ]
  },
  {
   "cell_type": "code",
   "execution_count": null,
   "id": "ac953246",
   "metadata": {},
   "outputs": [],
   "source": [
    "array1[array]=df[\"SkinThickness\"].median()"
   ]
  },
  {
   "cell_type": "code",
   "execution_count": null,
   "id": "4859b892",
   "metadata": {},
   "outputs": [],
   "source": [
    "df[[\"SkinThickness\"]].boxplot()"
   ]
  },
  {
   "cell_type": "code",
   "execution_count": null,
   "id": "42a82a1d",
   "metadata": {},
   "outputs": [],
   "source": [
    "df[[\"Insulin\"]].boxplot()"
   ]
  },
  {
   "cell_type": "code",
   "execution_count": null,
   "id": "a870640d",
   "metadata": {},
   "outputs": [],
   "source": [
    "z_score_value=np.abs(zscore(df[\"Insulin\"]))\n",
    "array=np.where(z_score_value>2)\n",
    "array\n",
    "array1=df[\"Insulin\"].to_numpy()\n",
    "array1[array]"
   ]
  },
  {
   "cell_type": "code",
   "execution_count": null,
   "id": "2b961e92",
   "metadata": {},
   "outputs": [],
   "source": [
    "array1[array]=df[\"Insulin\"].median()"
   ]
  },
  {
   "cell_type": "code",
   "execution_count": null,
   "id": "01f26f03",
   "metadata": {},
   "outputs": [],
   "source": [
    "df[[\"Insulin\"]].boxplot()"
   ]
  },
  {
   "cell_type": "code",
   "execution_count": null,
   "id": "5c7eff85",
   "metadata": {},
   "outputs": [],
   "source": [
    "df[\"Insulin\"].unique()"
   ]
  },
  {
   "cell_type": "raw",
   "id": "05fd7c92",
   "metadata": {},
   "source": [
    "outlier removed and replaced with median value but boxplot shows some outlier\n",
    "we can see upper limit decreses "
   ]
  },
  {
   "cell_type": "code",
   "execution_count": null,
   "id": "981cf29c",
   "metadata": {},
   "outputs": [],
   "source": [
    "df[[\"BMI\"]].boxplot()"
   ]
  },
  {
   "cell_type": "code",
   "execution_count": null,
   "id": "87315ce5",
   "metadata": {},
   "outputs": [],
   "source": [
    "z_score_value=np.abs(zscore(df[\"BMI\"]))\n",
    "array=np.where(z_score_value>2)\n",
    "array\n",
    "array1=df[\"BMI\"].to_numpy()\n",
    "array1[array]"
   ]
  },
  {
   "cell_type": "code",
   "execution_count": null,
   "id": "f47673da",
   "metadata": {},
   "outputs": [],
   "source": [
    "array1[array]=df[\"BMI\"].mean()"
   ]
  },
  {
   "cell_type": "code",
   "execution_count": null,
   "id": "4cc528ce",
   "metadata": {},
   "outputs": [],
   "source": [
    "df[[\"BMI\"]].boxplot()"
   ]
  },
  {
   "cell_type": "markdown",
   "id": "da9589ea",
   "metadata": {},
   "source": [
    "#### use transformation method"
   ]
  },
  {
   "cell_type": "code",
   "execution_count": null,
   "id": "9eb64899",
   "metadata": {},
   "outputs": [],
   "source": [
    "sns.boxplot(x=(df[\"Age\"]))"
   ]
  },
  {
   "cell_type": "code",
   "execution_count": null,
   "id": "bd9db41e",
   "metadata": {},
   "outputs": [],
   "source": [
    "sns.boxplot(x=np.log(df[\"Age\"]))"
   ]
  },
  {
   "cell_type": "code",
   "execution_count": null,
   "id": "f8183256",
   "metadata": {},
   "outputs": [],
   "source": [
    "df[[\"Age\"]].boxplot() #here it cannot saved in df so use apply function"
   ]
  },
  {
   "cell_type": "code",
   "execution_count": null,
   "id": "7442c701",
   "metadata": {},
   "outputs": [],
   "source": [
    "df[\"Age\"]=df[\"Age\"].apply(lambda x:np.log(x))"
   ]
  },
  {
   "cell_type": "code",
   "execution_count": null,
   "id": "1ec83dea",
   "metadata": {},
   "outputs": [],
   "source": [
    "df[[\"Age\"]].boxplot()"
   ]
  },
  {
   "cell_type": "raw",
   "id": "30e4bf55",
   "metadata": {},
   "source": [
    "Here you can see outlier is removed by transformation method"
   ]
  },
  {
   "cell_type": "code",
   "execution_count": null,
   "id": "c3dab3f6",
   "metadata": {},
   "outputs": [],
   "source": [
    "df[[\"DiabetesPedigreeFunction\"]].boxplot()"
   ]
  },
  {
   "cell_type": "code",
   "execution_count": null,
   "id": "971205a2",
   "metadata": {},
   "outputs": [],
   "source": [
    "q3=df[\"DiabetesPedigreeFunction\"].quantile(0.75)\n",
    "q1=df[\"DiabetesPedigreeFunction\"].quantile(0.25)\n",
    "iqr=q3-q1\n",
    "lower_limit=q1-1.5*iqr\n",
    "lower_limit\n",
    "upper_limit=q3+1.5*iqr\n",
    "upper_limit"
   ]
  },
  {
   "cell_type": "code",
   "execution_count": null,
   "id": "fb0675e6",
   "metadata": {},
   "outputs": [],
   "source": [
    "df[[\"DiabetesPedigreeFunction\"]].loc[df[\"DiabetesPedigreeFunction\"]>upper_limit].head()"
   ]
  },
  {
   "cell_type": "code",
   "execution_count": null,
   "id": "6b167640",
   "metadata": {},
   "outputs": [],
   "source": [
    "df.loc[df[\"DiabetesPedigreeFunction\"]>upper_limit,\"DiabetesPedigreeFunction\"]=df[\"DiabetesPedigreeFunction\"].median()"
   ]
  },
  {
   "cell_type": "code",
   "execution_count": null,
   "id": "64171f16",
   "metadata": {},
   "outputs": [],
   "source": [
    "df[[\"DiabetesPedigreeFunction\"]].boxplot()"
   ]
  },
  {
   "cell_type": "code",
   "execution_count": null,
   "id": "872924e2",
   "metadata": {},
   "outputs": [],
   "source": [
    "df.head()"
   ]
  },
  {
   "cell_type": "code",
   "execution_count": null,
   "id": "ab540bfb",
   "metadata": {},
   "outputs": [],
   "source": [
    "x=df.drop([\"Outcome\",\"Pregnancies\"],axis=1)\n",
    "y=df[\"Outcome\"]"
   ]
  },
  {
   "cell_type": "code",
   "execution_count": null,
   "id": "35045e21",
   "metadata": {},
   "outputs": [],
   "source": [
    "from statsmodels.stats.outliers_influence import variance_inflation_factor\n",
    "lst=[]\n",
    "for i in range(x.shape[1]):\n",
    "    vif=variance_inflation_factor(x,i)\n",
    "    lst.append(vif)\n",
    "    \n",
    "lst\n",
    "s1=pd.Series(lst,index=x.columns)\n",
    "s1.plot(kind=\"barh\")"
   ]
  },
  {
   "cell_type": "raw",
   "id": "d93ef813",
   "metadata": {},
   "source": [
    "from above graph some features having vif factor above 10 so there is multicolinarity presentg\n",
    "some feature having vif range 0 to 5 that is good range"
   ]
  },
  {
   "cell_type": "markdown",
   "id": "fc0c39aa",
   "metadata": {},
   "source": [
    "### Train test split"
   ]
  },
  {
   "cell_type": "code",
   "execution_count": null,
   "id": "81fe33a2",
   "metadata": {},
   "outputs": [],
   "source": [
    "x_train,x_test,y_train,y_test=train_test_split(x,y ,test_size=0.3,random_state=10,stratify=y)"
   ]
  },
  {
   "cell_type": "markdown",
   "id": "4d358771",
   "metadata": {},
   "source": [
    "### Model training"
   ]
  },
  {
   "cell_type": "code",
   "execution_count": null,
   "id": "97ad84c8",
   "metadata": {},
   "outputs": [],
   "source": [
    "logistic_model=LogisticRegression()"
   ]
  },
  {
   "cell_type": "code",
   "execution_count": null,
   "id": "8ce2deab",
   "metadata": {},
   "outputs": [],
   "source": [
    "logistic_model.fit(x_train,y_train)"
   ]
  },
  {
   "cell_type": "code",
   "execution_count": null,
   "id": "1cfb82f9",
   "metadata": {},
   "outputs": [],
   "source": [
    "y_pred=logistic_model.predict(x_test)"
   ]
  },
  {
   "cell_type": "code",
   "execution_count": null,
   "id": "e3647f96",
   "metadata": {},
   "outputs": [],
   "source": [
    "y_pred\n",
    "dfnew2=pd.DataFrame()\n",
    "dfnew2[\"prediction\"]=y_pred\n",
    "dfnew2.shape\n",
    "\n"
   ]
  },
  {
   "cell_type": "code",
   "execution_count": null,
   "id": "2cbde40c",
   "metadata": {},
   "outputs": [],
   "source": [
    "y_pred_pobability=logistic_model.predict_proba(x_test)\n",
    "y_pred_pobability.shape"
   ]
  },
  {
   "cell_type": "code",
   "execution_count": null,
   "id": "23d5f031",
   "metadata": {
    "scrolled": true
   },
   "outputs": [],
   "source": [
    "s1=pd.DataFrame(y_pred_pobability,columns=[\"class0\",\"class1\"])\n",
    "s1[\"actual\"]=y_pred"
   ]
  },
  {
   "cell_type": "code",
   "execution_count": null,
   "id": "83eb4bdc",
   "metadata": {},
   "outputs": [],
   "source": [
    "# s1[\"class2\"].unique()"
   ]
  },
  {
   "cell_type": "code",
   "execution_count": null,
   "id": "295ec40e",
   "metadata": {},
   "outputs": [],
   "source": [
    "s1.head(20).plot(kind=\"line\",figsize=(15,5))"
   ]
  },
  {
   "cell_type": "code",
   "execution_count": null,
   "id": "b6d92d88",
   "metadata": {},
   "outputs": [],
   "source": [
    "s1.tail(25)"
   ]
  },
  {
   "cell_type": "code",
   "execution_count": null,
   "id": "538e523e",
   "metadata": {},
   "outputs": [],
   "source": [
    "confusion_matrix_test=plot_confusion_matrix(logistic_model,x_test,y_test)"
   ]
  },
  {
   "cell_type": "code",
   "execution_count": null,
   "id": "911baaa3",
   "metadata": {},
   "outputs": [],
   "source": [
    "y_pred_train=logistic_model.predict(x_train)"
   ]
  },
  {
   "cell_type": "code",
   "execution_count": null,
   "id": "8da66c0e",
   "metadata": {},
   "outputs": [],
   "source": [
    "confusion_matrix_train=plot_confusion_matrix(logistic_model,x_train,y_train)"
   ]
  },
  {
   "cell_type": "markdown",
   "id": "8734e6bd",
   "metadata": {},
   "source": [
    "### Evaluation of matrix"
   ]
  },
  {
   "cell_type": "code",
   "execution_count": null,
   "id": "637aeb0e",
   "metadata": {},
   "outputs": [],
   "source": [
    "con_matrix_test=confusion_matrix(y_test,y_pred)\n",
    "print(\"confusion matrix for test\\n\",con_matrix_test)\n",
    "\n",
    "accuracy=accuracy_score(y_test,y_pred)\n",
    "print(\"accuracy of testing is\",accuracy)\n",
    "\n",
    "classification_report_test=classification_report(y_test,y_pred)\n",
    "print(\"classification report is\\n\",classification_report_test)"
   ]
  },
  {
   "cell_type": "markdown",
   "id": "c72243c7",
   "metadata": {},
   "source": [
    "#### for training data"
   ]
  },
  {
   "cell_type": "code",
   "execution_count": null,
   "id": "8e7a90e0",
   "metadata": {},
   "outputs": [],
   "source": [
    "con_matrix_train=confusion_matrix(y_train,y_pred_train)\n",
    "print(\"confusion matrix for test\\n\",con_matrix_train)\n",
    "\n",
    "accuracy=accuracy_score(y_train,y_pred_train)\n",
    "print(\"accuracy of testing is\",accuracy)\n",
    "\n",
    "classification_report_train=classification_report(y_train,y_pred_train)\n",
    "print(\"classification report is\\n\",classification_report_train)"
   ]
  },
  {
   "cell_type": "markdown",
   "id": "22ceeb44",
   "metadata": {},
   "source": [
    "### AUC & ROC curve"
   ]
  },
  {
   "cell_type": "code",
   "execution_count": null,
   "id": "b7dc7727",
   "metadata": {},
   "outputs": [],
   "source": [
    "y_train_probability=logistic_model.predict_proba(x_train)\n",
    "y_train_probability[:,1]\n",
    "fpr,tpr,thresh =roc_curve(y_train,y_train_probability[:,1])\n",
    "s2=pd.DataFrame()\n",
    "s2[\"fpr\"]=fpr\n",
    "s2[\"tpr\"]=tpr\n",
    "s2[\"thresh\"]=thresh\n",
    "s2"
   ]
  },
  {
   "cell_type": "code",
   "execution_count": null,
   "id": "edc432ab",
   "metadata": {},
   "outputs": [],
   "source": [
    "plt.plot(fpr,tpr)\n",
    "plt.xlabel(\"false positive rate\")\n",
    "plt.ylabel(\"true positive rate\")\n",
    "plt.title(\"Roc_curve\")"
   ]
  },
  {
   "cell_type": "markdown",
   "id": "49d852e7",
   "metadata": {},
   "source": [
    "### calculate AUC curve"
   ]
  },
  {
   "cell_type": "code",
   "execution_count": null,
   "id": "a9def32b",
   "metadata": {},
   "outputs": [],
   "source": [
    "AUC_VALUE=auc(fpr,tpr)\n",
    "AUC_VALUE    # for best model auc value is between 0.8 to 0.9"
   ]
  },
  {
   "cell_type": "markdown",
   "id": "988b1af7",
   "metadata": {},
   "source": [
    "### USER INPUT "
   ]
  },
  {
   "cell_type": "code",
   "execution_count": null,
   "id": "3d305ad5",
   "metadata": {},
   "outputs": [],
   "source": [
    "x.columns\n"
   ]
  },
  {
   "cell_type": "code",
   "execution_count": null,
   "id": "a1b46121",
   "metadata": {},
   "outputs": [],
   "source": [
    "x.head(2)"
   ]
  },
  {
   "cell_type": "code",
   "execution_count": null,
   "id": "aa5eb8eb",
   "metadata": {},
   "outputs": [],
   "source": [
    "Glucose=85\n",
    "BloodPressure=66\n",
    "SkinThickness=29\n",
    "Insulin=0\n",
    "BMI=26.6\n",
    "DiabetesPedigreeFunction=0.351\n",
    "Age=31\n"
   ]
  },
  {
   "cell_type": "code",
   "execution_count": null,
   "id": "8a29f336",
   "metadata": {},
   "outputs": [],
   "source": [
    "array=np.zeros(x.shape[1])\n",
    "array[0]=Glucose\n",
    "array[1]=BloodPressure\n",
    "array[2]=SkinThickness\n",
    "array[3]=Insulin\n",
    "array[4]=BMI\n",
    "array[5]=DiabetesPedigreeFunction\n",
    "array[6]=np.log(Age)\n",
    "array"
   ]
  },
  {
   "cell_type": "code",
   "execution_count": null,
   "id": "d93df43f",
   "metadata": {},
   "outputs": [],
   "source": [
    "prediction=logistic_model.predict([array])[0]\n",
    "if prediction==1:\n",
    "    print(\"patient having the diabetes need to take care\")\n",
    "else:\n",
    "    print(\"patient dont have the diabetes enjoy\")"
   ]
  },
  {
   "cell_type": "markdown",
   "id": "d563d70a",
   "metadata": {},
   "source": [
    "### Pickle file"
   ]
  },
  {
   "cell_type": "code",
   "execution_count": null,
   "id": "78b36404",
   "metadata": {},
   "outputs": [],
   "source": [
    "column_list=x.columns\n",
    "column_list"
   ]
  },
  {
   "cell_type": "code",
   "execution_count": null,
   "id": "cf7f63f6",
   "metadata": {},
   "outputs": [],
   "source": [
    "column_dict={\"columns\":list(column_list)}"
   ]
  },
  {
   "cell_type": "code",
   "execution_count": null,
   "id": "42be61d7",
   "metadata": {},
   "outputs": [],
   "source": [
    "import pickle\n",
    "import json"
   ]
  },
  {
   "cell_type": "code",
   "execution_count": null,
   "id": "e2334f92",
   "metadata": {},
   "outputs": [],
   "source": [
    "with open(\"logistic_model.pkl\",\"wb\")as f:\n",
    "    pickle.dump(logistic_model,f)"
   ]
  },
  {
   "cell_type": "code",
   "execution_count": null,
   "id": "235caec0",
   "metadata": {},
   "outputs": [],
   "source": [
    "with open(\"dict.json\",\"w\")as f:\n",
    "    json.dump(column_dict,f)"
   ]
  },
  {
   "cell_type": "code",
   "execution_count": null,
   "id": "b11c01bf",
   "metadata": {},
   "outputs": [],
   "source": []
  }
 ],
 "metadata": {
  "kernelspec": {
   "display_name": "Python 3 (ipykernel)",
   "language": "python",
   "name": "python3"
  },
  "language_info": {
   "codemirror_mode": {
    "name": "ipython",
    "version": 3
   },
   "file_extension": ".py",
   "mimetype": "text/x-python",
   "name": "python",
   "nbconvert_exporter": "python",
   "pygments_lexer": "ipython3",
   "version": "3.10.5"
  }
 },
 "nbformat": 4,
 "nbformat_minor": 5
}
